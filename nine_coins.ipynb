{
 "cells": [
  {
   "cell_type": "code",
   "execution_count": 1,
   "id": "ae49f3f7-825f-4535-b933-c1d6a26142b5",
   "metadata": {},
   "outputs": [],
   "source": [
    "#撰寫 class\n",
    "class Nine_Coins:\n",
    "    def __init__(self,num):  #initialize\n",
    "        self.num=num  #將輸入的數設為 self.num\n",
    "        self.binary='{:09b}'.format(self.num)  #將輸入的數轉為二進位制\n",
    "        #令 self.state 為 HT 組合的字串\n",
    "        self.state=str(self.binary)  #令二進位的值為字串\n",
    "        self.state=self.state.replace('0','H')  #將'0'改為'H'\n",
    "        self.state=self.state.replace('1','T')  #將'1'改為'T'\n",
    "    \n",
    "    #宣告 toss function\n",
    "    def toss(self):\n",
    "        import random  #引用 random module\n",
    "        self.num=random.randint(0,511)  #將 self.num 改為 0~511 間的任一數\n",
    "        #因 elf.num 被改變，故要重新宣告 self.binary 和 self.state\n",
    "        self.binary='{:09b}'.format(self.num)\n",
    "        self.state=str(self.binary)\n",
    "        self.state=self.state.replace('0','H')\n",
    "        self.state=self.state.replace('1','T')\n",
    "    \n",
    "    #引用 __repr__ 印出 self.state\n",
    "    def __repr__(self):\n",
    "        return f'Nine_Coins: {self.state}'\n",
    "    \n",
    "    #引用 __str__ 印出 self.binary 和 self.num\n",
    "    def __str__(self):\n",
    "        return f'binary:{self.binary} and decimal:{self.num}'"
   ]
  },
  {
   "cell_type": "code",
   "execution_count": null,
   "id": "8aeb6cbe-c835-4cad-a40f-6bcf46e2f891",
   "metadata": {},
   "outputs": [],
   "source": []
  }
 ],
 "metadata": {
  "kernelspec": {
   "display_name": "Python 3",
   "language": "python",
   "name": "python3"
  },
  "language_info": {
   "codemirror_mode": {
    "name": "ipython",
    "version": 3
   },
   "file_extension": ".py",
   "mimetype": "text/x-python",
   "name": "python",
   "nbconvert_exporter": "python",
   "pygments_lexer": "ipython3",
   "version": "3.8.8"
  }
 },
 "nbformat": 4,
 "nbformat_minor": 5
}
