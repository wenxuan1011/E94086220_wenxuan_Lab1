{
 "cells": [
  {
   "cell_type": "code",
   "execution_count": 1,
   "id": "d786520a-71f8-456d-b17b-4e28c6fb36e5",
   "metadata": {},
   "outputs": [],
   "source": [
    "#宣告一個空的 list 用來儲存即將輸入的值\n",
    "list=[]"
   ]
  },
  {
   "cell_type": "code",
   "execution_count": 2,
   "id": "3949db3f-efb4-412b-be0f-07cbbf925bc2",
   "metadata": {},
   "outputs": [
    {
     "name": "stdin",
     "output_type": "stream",
     "text": [
      "Enter the number of smallest and largest values to remove: 2\n",
      "Enter a value (q or Q to quit): 1001\n",
      "Enter a value (q or Q to quit): 2001\n",
      "Enter a value (q or Q to quit): 1\n",
      "Enter a value (q or Q to quit): 2\n",
      "Enter a value (q or Q to quit): -1001\n",
      "Enter a value (q or Q to quit): -20\n",
      "Enter a value (q or Q to quit): 5\n",
      "Enter a value (q or Q to quit): 4\n",
      "Enter a value (q or Q to quit): 3\n",
      "Enter a value (q or Q to quit): 1\n",
      "Enter a value (q or Q to quit): 2\n",
      "Enter a value (q or Q to quit): 3\n",
      "Enter a value (q or Q to quit): q\n"
     ]
    },
    {
     "name": "stdout",
     "output_type": "stream",
     "text": [
      "The original data: [1001, 2001, 1, 2, -1001, -20, 5, 4, 3, 1, 2, 3]\n",
      "The data with the outliers removed: [1, 1, 2, 2, 3, 3, 4, 5]\n",
      "The outliers: [-1001, -20, 1001, 2001]\n"
     ]
    }
   ],
   "source": [
    "#將要移去的數量值設定為 integer，並命名為 num\n",
    "num=int(input('Enter the number of smallest and largest values to remove:'))\n",
    "#將輸入的值命名為 value\n",
    "value=input('Enter a value (q or Q to quit):')\n",
    "\n",
    "#若沒有輸入 'q' 或 'Q' 則繼續輸入\n",
    "while(value!='q' and value!='Q'):\n",
    "    list.append(int(value))  #將輸入的值存入 list 中\n",
    "    value=input('Enter a value (q or Q to quit):')\n",
    "\n",
    "#宣告一個 function 來判斷最大最小值並移除\n",
    "def remove_outliers(a_list,n):\n",
    "    #若欲移除的數字數量比輸入的是來的多，則無法執行（除錯）\n",
    "    if(n*2>len(a_list)):\n",
    "        print('Enter again!')\n",
    "    #反之，開始進行最大最小值的移除\n",
    "    else:\n",
    "        print('The original data:',a_list)  #印出位移除前的數值\n",
    "        outliers_list=[]  #宣告一個空的 list 來存放被移除的值\n",
    "        for n in range(num):\n",
    "            outliers_list+=[max(a_list)]  #將最大值加入 outliers_list 中\n",
    "            outliers_list+=[min(a_list)]  #將最小值加入 outliers_list 中\n",
    "            a_list.remove(max(a_list))  #將最大值從 a_list 中移除\n",
    "            a_list.remove(min(a_list))  #將最小值從 a_list 中移除\n",
    "        a_list.sort()  #由小到大重排\n",
    "        outliers_list.sort()\n",
    "        print('The data with the outliers removed:',a_list)\n",
    "        print('The outliers:',outliers_list)\n",
    "\n",
    "#呼叫函式並執行\n",
    "remove_outliers(list,num)"
   ]
  },
  {
   "cell_type": "code",
   "execution_count": null,
   "id": "4d0947c6-2214-4bb4-93b8-49eb3ba25bdd",
   "metadata": {},
   "outputs": [],
   "source": []
  }
 ],
 "metadata": {
  "kernelspec": {
   "display_name": "Python 3",
   "language": "python",
   "name": "python3"
  },
  "language_info": {
   "codemirror_mode": {
    "name": "ipython",
    "version": 3
   },
   "file_extension": ".py",
   "mimetype": "text/x-python",
   "name": "python",
   "nbconvert_exporter": "python",
   "pygments_lexer": "ipython3",
   "version": "3.8.8"
  }
 },
 "nbformat": 4,
 "nbformat_minor": 5
}
