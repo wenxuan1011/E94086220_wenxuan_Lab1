{
 "cells": [
  {
   "cell_type": "code",
   "execution_count": 1,
   "id": "f786752d-53c6-49e1-8fd9-79d8a84d7183",
   "metadata": {},
   "outputs": [
    {
     "name": "stdin",
     "output_type": "stream",
     "text": [
      "Enter an integer: 1234567890\n"
     ]
    },
    {
     "name": "stdout",
     "output_type": "stream",
     "text": [
      "0987654321"
     ]
    }
   ],
   "source": [
    "#Enter an input which name is \"num\"\n",
    "num=int(input('Enter an integer:'))\n",
    "\n",
    "#Write a function to reverse the number\n",
    "def reverse(number):\n",
    "    while(number!=0):\n",
    "        print(number%10, end=\"\")  #print out the result from left to right\n",
    "        number=number//10\n",
    "\n",
    "#call the function\n",
    "reverse(num)"
   ]
  },
  {
   "cell_type": "code",
   "execution_count": null,
   "id": "cca1ab3f-544e-4ba8-b951-b8eb69d63eb2",
   "metadata": {},
   "outputs": [],
   "source": []
  }
 ],
 "metadata": {
  "kernelspec": {
   "display_name": "Python 3",
   "language": "python",
   "name": "python3"
  },
  "language_info": {
   "codemirror_mode": {
    "name": "ipython",
    "version": 3
   },
   "file_extension": ".py",
   "mimetype": "text/x-python",
   "name": "python",
   "nbconvert_exporter": "python",
   "pygments_lexer": "ipython3",
   "version": "3.8.8"
  }
 },
 "nbformat": 4,
 "nbformat_minor": 5
}
