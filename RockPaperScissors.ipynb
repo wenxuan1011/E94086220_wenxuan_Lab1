{
 "cells": [
  {
   "cell_type": "code",
   "execution_count": 1,
   "id": "42c22cc8-c83b-42fe-a9bf-54c9b86a60b5",
   "metadata": {},
   "outputs": [],
   "source": [
    "#宣告一個 list 裡面存有三個字串\n",
    "a_list=['ROCK','PAPER','SCISSORS']"
   ]
  },
  {
   "cell_type": "code",
   "execution_count": 2,
   "id": "6b25408e-69ce-4e2b-95a2-72eb81ad0536",
   "metadata": {},
   "outputs": [],
   "source": [
    "#將參數的值初始化，設為 0\n",
    "ties=0\n",
    "losses=0\n",
    "win=0"
   ]
  },
  {
   "cell_type": "code",
   "execution_count": 3,
   "id": "8d60eece-83ec-438d-ba78-38d0c2340977",
   "metadata": {},
   "outputs": [
    {
     "name": "stdout",
     "output_type": "stream",
     "text": [
      "Welcome to ROCK, PAPER, SCISSORS game!\n"
     ]
    },
    {
     "name": "stdin",
     "output_type": "stream",
     "text": [
      "Enter your move: r(ock) p(aper) s(cissors) r\n"
     ]
    },
    {
     "name": "stdout",
     "output_type": "stream",
     "text": [
      "ROCK versus...\n",
      "ROCK\n",
      "It is a tie!\n"
     ]
    },
    {
     "name": "stdin",
     "output_type": "stream",
     "text": [
      "Enter your move: r(ock) p(aper) s(cissors) s\n"
     ]
    },
    {
     "name": "stdout",
     "output_type": "stream",
     "text": [
      "SCISSORS versus...\n",
      "ROCK\n",
      "You lose!\n"
     ]
    },
    {
     "name": "stdin",
     "output_type": "stream",
     "text": [
      "Enter your move: r(ock) p(aper) s(cissors) r\n"
     ]
    },
    {
     "name": "stdout",
     "output_type": "stream",
     "text": [
      "ROCK versus...\n",
      "SCISSORS\n",
      "You win!\n",
      "You have 1 ties and 1 losses before your first win.\n"
     ]
    }
   ],
   "source": [
    "print('Welcome to ROCK, PAPER, SCISSORS game!')\n",
    "\n",
    "#若還沒有贏時（win==0），做下面的迴圈\n",
    "while(win!=1):\n",
    "    s=input('Enter your move: r(ock) p(aper) s(cissors)')\n",
    "    import random  #Import module\n",
    "    random.shuffle(a_list)  #將 a_list 重排\n",
    "    \n",
    "    #若輸入的為 'r'\n",
    "    if(s=='r'):\n",
    "        print('ROCK versus...')\n",
    "        print(a_list[0])  #顯示重排後的第一個字串為何\n",
    "        if(a_list[0]=='ROCK'):  #若為石頭，則為平手\n",
    "            print('It is a tie!')\n",
    "            ties+=1  #平手(ties)要 +1\n",
    "        elif(a_list[0]=='PAPER'):  #若為布，則為輸\n",
    "            print('You lose!')\n",
    "            losses+=1  #輸(losses)要 +1\n",
    "        else:  #else則為出剪刀，獲勝\n",
    "            print('You win!')\n",
    "            win+=1  #勝(win)要 +1\n",
    "    \n",
    "    #若輸入的為 'p'\n",
    "    elif(s=='p'):\n",
    "        print('PAPER versus...')\n",
    "        print(a_list[0])\n",
    "        if(a_list[0]=='PAPER'):  #若為布，則為平手\n",
    "            print('It is a tie!')\n",
    "            ties+=1\n",
    "        elif(a_list[0]=='SCISSORS'):  #若為剪刀，則為輸\n",
    "            print('You lose!')\n",
    "            losses+=1\n",
    "        else:  #else則為出石頭，獲勝\n",
    "            print('You win!')\n",
    "            win+=1\n",
    "    \n",
    "    #若輸入的為 's'\n",
    "    else:\n",
    "        print('SCISSORS versus...')\n",
    "        print(a_list[0])\n",
    "        if(a_list[0]=='SCISSORS'):  #若為剪刀，則為平手\n",
    "            print('It is a tie!')\n",
    "            ties+=1\n",
    "        elif(a_list[0]=='ROCK'):  #若為石頭，則為輸\n",
    "            print('You lose!')\n",
    "            losses+=1\n",
    "        else:  #else則為出布，獲勝\n",
    "            print('You win!')\n",
    "            win+=1\n",
    "\n",
    "#印出平手的次數與輸的次數\n",
    "print('You have',ties,'ties and',losses,'losses before your first win.')"
   ]
  },
  {
   "cell_type": "raw",
   "id": "9027e72b-7346-49ca-977a-1e39f60a89bb",
   "metadata": {},
   "source": []
  }
 ],
 "metadata": {
  "kernelspec": {
   "display_name": "Python 3",
   "language": "python",
   "name": "python3"
  },
  "language_info": {
   "codemirror_mode": {
    "name": "ipython",
    "version": 3
   },
   "file_extension": ".py",
   "mimetype": "text/x-python",
   "name": "python",
   "nbconvert_exporter": "python",
   "pygments_lexer": "ipython3",
   "version": "3.8.8"
  }
 },
 "nbformat": 4,
 "nbformat_minor": 5
}
