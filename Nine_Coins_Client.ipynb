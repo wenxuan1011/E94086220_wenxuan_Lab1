{
 "cells": [
  {
   "cell_type": "code",
   "execution_count": 1,
   "id": "2d8d567d-2882-4652-8f29-58515d982256",
   "metadata": {},
   "outputs": [],
   "source": [
    "from nine_coins import Nine_Coins"
   ]
  },
  {
   "cell_type": "code",
   "execution_count": 2,
   "id": "04a9d8fb-ca61-4afa-b31f-2cfd719c99a2",
   "metadata": {},
   "outputs": [],
   "source": [
    "c=Nine_Coins(7)"
   ]
  },
  {
   "cell_type": "code",
   "execution_count": 3,
   "id": "070ea127-7561-48ca-8bfe-127885a7441c",
   "metadata": {},
   "outputs": [
    {
     "data": {
      "text/plain": [
       "Nine_Coins: HHHHHHTTT"
      ]
     },
     "execution_count": 3,
     "metadata": {},
     "output_type": "execute_result"
    }
   ],
   "source": [
    "c"
   ]
  },
  {
   "cell_type": "code",
   "execution_count": 4,
   "id": "6a623da2-645d-4f7b-8c81-07f369595011",
   "metadata": {},
   "outputs": [
    {
     "name": "stdout",
     "output_type": "stream",
     "text": [
      "binary:000000111 and decimal:7\n"
     ]
    }
   ],
   "source": [
    "print(c)"
   ]
  },
  {
   "cell_type": "code",
   "execution_count": 5,
   "id": "b59cf022-2427-4ed2-83c2-50968507ebbc",
   "metadata": {},
   "outputs": [],
   "source": [
    "c.toss()"
   ]
  },
  {
   "cell_type": "code",
   "execution_count": 6,
   "id": "7408f69c-0bd1-4895-84bc-c77a7e8bcfd2",
   "metadata": {},
   "outputs": [
    {
     "data": {
      "text/plain": [
       "Nine_Coins: THTTHTTTT"
      ]
     },
     "execution_count": 6,
     "metadata": {},
     "output_type": "execute_result"
    }
   ],
   "source": [
    "c"
   ]
  },
  {
   "cell_type": "code",
   "execution_count": 7,
   "id": "14df6b8b-7354-454d-b365-bb79443752e6",
   "metadata": {},
   "outputs": [
    {
     "name": "stdout",
     "output_type": "stream",
     "text": [
      "binary:101101111 and decimal:367\n"
     ]
    }
   ],
   "source": [
    "print(c)"
   ]
  },
  {
   "cell_type": "code",
   "execution_count": 8,
   "id": "c17cc270-4467-4c97-b5c2-257b26562abb",
   "metadata": {},
   "outputs": [],
   "source": [
    "c.toss()"
   ]
  },
  {
   "cell_type": "code",
   "execution_count": 9,
   "id": "aef9d59a-4bb5-487f-99eb-8e3163224720",
   "metadata": {},
   "outputs": [
    {
     "data": {
      "text/plain": [
       "Nine_Coins: TTHHHHHTH"
      ]
     },
     "execution_count": 9,
     "metadata": {},
     "output_type": "execute_result"
    }
   ],
   "source": [
    "c"
   ]
  },
  {
   "cell_type": "code",
   "execution_count": 10,
   "id": "9299501b-2874-4b6c-9aac-157223191383",
   "metadata": {},
   "outputs": [
    {
     "name": "stdout",
     "output_type": "stream",
     "text": [
      "binary:110000010 and decimal:386\n"
     ]
    }
   ],
   "source": [
    "print(c)"
   ]
  },
  {
   "cell_type": "code",
   "execution_count": null,
   "id": "60f8f0ba-540f-453c-b8d3-e4bb30963b91",
   "metadata": {},
   "outputs": [],
   "source": []
  }
 ],
 "metadata": {
  "kernelspec": {
   "display_name": "Python 3",
   "language": "python",
   "name": "python3"
  },
  "language_info": {
   "codemirror_mode": {
    "name": "ipython",
    "version": 3
   },
   "file_extension": ".py",
   "mimetype": "text/x-python",
   "name": "python",
   "nbconvert_exporter": "python",
   "pygments_lexer": "ipython3",
   "version": "3.8.8"
  }
 },
 "nbformat": 4,
 "nbformat_minor": 5
}
